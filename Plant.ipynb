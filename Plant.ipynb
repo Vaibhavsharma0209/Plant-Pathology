{
  "nbformat": 4,
  "nbformat_minor": 0,
  "metadata": {
    "kernelspec": {
      "display_name": "Python 3",
      "language": "python",
      "name": "python3"
    },
    "language_info": {
      "codemirror_mode": {
        "name": "ipython",
        "version": 3
      },
      "file_extension": ".py",
      "mimetype": "text/x-python",
      "name": "python",
      "nbconvert_exporter": "python",
      "pygments_lexer": "ipython3",
      "version": "3.7.6"
    },
    "colab": {
      "name": "Plant.ipynb",
      "provenance": [],
      "collapsed_sections": [],
      "toc_visible": true
    },
    "accelerator": "GPU"
  },
  "cells": [
    {
      "cell_type": "markdown",
      "metadata": {
        "id": "dXSwxbY7clq5",
        "colab_type": "text"
      },
      "source": [
        "### Import Libraries"
      ]
    },
    {
      "cell_type": "code",
      "metadata": {
        "id": "XeRoCKztlWg7",
        "colab_type": "code",
        "colab": {}
      },
      "source": [
        "from zipfile import ZipFile\n",
        "import os\n",
        "from tqdm import tqdm\n",
        "import numpy as np\n",
        "import pandas as pd\n",
        "from cv2 import resize, imread\n",
        "import matplotlib.pyplot as plt\n",
        "from tensorflow.keras.preprocessing.image import ImageDataGenerator\n",
        "from sklearn.model_selection import train_test_split"
      ],
      "execution_count": 0,
      "outputs": []
    },
    {
      "cell_type": "code",
      "metadata": {
        "id": "Nc3Py3IxZZIZ",
        "colab_type": "code",
        "colab": {}
      },
      "source": [
        "!pip install -U git+https://github.com/qubvel/efficientnet"
      ],
      "execution_count": 0,
      "outputs": []
    },
    {
      "cell_type": "code",
      "metadata": {
        "id": "e5ip-pcslWiH",
        "colab_type": "code",
        "colab": {}
      },
      "source": [
        "from tensorflow.keras.models import Model, load_model, Sequential\n",
        "from tensorflow.keras.layers import Dense, Flatten, Dropout, BatchNormalization, Concatenate\n",
        "from tensorflow.keras.callbacks import EarlyStopping, ReduceLROnPlateau, ModelCheckpoint\n",
        "from tensorflow.keras.applications.xception import preprocess_input\n",
        "from tensorflow.keras.optimizers import Adam\n",
        "from tensorflow.keras.utils import plot_model\n",
        "from efficientnet.tfkeras import EfficientNetB4"
      ],
      "execution_count": 0,
      "outputs": []
    },
    {
      "cell_type": "code",
      "metadata": {
        "id": "eVwgZiONlhhD",
        "colab_type": "code",
        "colab": {}
      },
      "source": [
        "from google.colab import drive\n",
        "drive.mount('/content/drive')"
      ],
      "execution_count": 0,
      "outputs": []
    },
    {
      "cell_type": "markdown",
      "metadata": {
        "id": "G4_tJcJjdQI1",
        "colab_type": "text"
      },
      "source": [
        "### Extracting Zip"
      ]
    },
    {
      "cell_type": "code",
      "metadata": {
        "id": "EczUoR18lWhE",
        "colab_type": "code",
        "colab": {}
      },
      "source": [
        "with ZipFile('/content/drive/My Drive/Plant/plant-pathology-2020-fgvc7.zip') as f:\n",
        "    print('Extracting')\n",
        "    f.extractall()\n",
        "    print('Done!!')"
      ],
      "execution_count": 0,
      "outputs": []
    },
    {
      "cell_type": "code",
      "metadata": {
        "id": "4MR7hPOHlWhK",
        "colab_type": "code",
        "colab": {}
      },
      "source": [
        "train_csv = pd.read_csv('train.csv')"
      ],
      "execution_count": 0,
      "outputs": []
    },
    {
      "cell_type": "code",
      "metadata": {
        "id": "J2eRcg21lWhV",
        "colab_type": "code",
        "colab": {}
      },
      "source": [
        "train_csv.drop('image_id', axis = 1, inplace = True)"
      ],
      "execution_count": 0,
      "outputs": []
    },
    {
      "cell_type": "code",
      "metadata": {
        "id": "kNL4uyyHytQs",
        "colab_type": "code",
        "colab": {}
      },
      "source": [
        "mult_diseases_index = train_csv[train_csv['multiple_diseases'] == 1].index"
      ],
      "execution_count": 0,
      "outputs": []
    },
    {
      "cell_type": "code",
      "metadata": {
        "id": "nc6kY21LlWhb",
        "colab_type": "code",
        "colab": {}
      },
      "source": [
        "labels = train_csv.values"
      ],
      "execution_count": 0,
      "outputs": []
    },
    {
      "cell_type": "code",
      "metadata": {
        "id": "zfF3OlSPlWhh",
        "colab_type": "code",
        "colab": {}
      },
      "source": [
        "def extract_images(img_size):\n",
        "    path = 'images'\n",
        "    train_images = []\n",
        "    test_images = []\n",
        "    train_images_dict = {}\n",
        "    test_images_dict = {}\n",
        "\n",
        "    for image in os.listdir(os.path.join(os.curdir, path)): \n",
        "        if image.split('_')[0] == 'Train':\n",
        "            idx = int(image.split('_')[1].split('.')[0])\n",
        "            train_images_dict[idx] = image\n",
        "        else:\n",
        "            idx = int(image.split('_')[1].split('.')[0])\n",
        "            test_images_dict[idx] = image\n",
        "    \n",
        "    for idx in tqdm(range(len(train_images_dict))):\n",
        "        arr_train = imread(os.path.join(os.curdir, path, train_images_dict[idx]))\n",
        "        arr_train = resize(arr_train, (img_size, img_size))\n",
        "        train_images.append(arr_train)\n",
        "        \n",
        "    for idx in tqdm(range(len(test_images_dict))):\n",
        "        arr_test = imread(os.path.join(os.curdir, path, test_images_dict[idx]))\n",
        "        arr_test = resize(arr_test, (img_size, img_size))\n",
        "        test_images.append(arr_test) \n",
        "        \n",
        "        \n",
        "    return np.array(train_images), np.array(test_images)"
      ],
      "execution_count": 0,
      "outputs": []
    },
    {
      "cell_type": "code",
      "metadata": {
        "id": "NZ49R0DVlWhp",
        "colab_type": "code",
        "colab": {}
      },
      "source": [
        "train_images, test_images = extract_images(380)"
      ],
      "execution_count": 0,
      "outputs": []
    },
    {
      "cell_type": "code",
      "metadata": {
        "id": "7VRaF3E6lWhw",
        "colab_type": "code",
        "colab": {}
      },
      "source": [
        "np.save('train_images_380.npy', train_images)\n",
        "np.save('test_images_380.npy', test_images)"
      ],
      "execution_count": 0,
      "outputs": []
    },
    {
      "cell_type": "code",
      "metadata": {
        "id": "IS9jJ98DjLaY",
        "colab_type": "code",
        "colab": {}
      },
      "source": [
        "train_images = np.load('train_images_380.npy')"
      ],
      "execution_count": 0,
      "outputs": []
    },
    {
      "cell_type": "markdown",
      "metadata": {
        "id": "YWGSD3ujlWh7",
        "colab_type": "text"
      },
      "source": [
        "##  Rescaling"
      ]
    },
    {
      "cell_type": "code",
      "metadata": {
        "id": "BT2KEBrylWh8",
        "colab_type": "code",
        "colab": {}
      },
      "source": [
        "idg = ImageDataGenerator(rescale= 1/255)"
      ],
      "execution_count": 0,
      "outputs": []
    },
    {
      "cell_type": "code",
      "metadata": {
        "id": "OkDquEY1lWiB",
        "colab_type": "code",
        "colab": {}
      },
      "source": [
        "x = next(idg.flow(train_images, labels, shuffle = False, batch_size=train_images.shape[0]))"
      ],
      "execution_count": 0,
      "outputs": []
    },
    {
      "cell_type": "code",
      "metadata": {
        "id": "SG50J-j2Wqvc",
        "colab_type": "code",
        "colab": {}
      },
      "source": [
        "del train_images"
      ],
      "execution_count": 0,
      "outputs": []
    },
    {
      "cell_type": "markdown",
      "metadata": {
        "id": "zJXTuDyXhGLW",
        "colab_type": "text"
      },
      "source": [
        "### Extra images"
      ]
    },
    {
      "cell_type": "code",
      "metadata": {
        "id": "b7lZgywxq3YO",
        "colab_type": "code",
        "colab": {}
      },
      "source": [
        "new_idg = ImageDataGenerator(rotation_range= 90, zoom_range= 0.4, shear_range= 0.5,\n",
        "                             horizontal_flip = True, vertical_flip = True, dtype = 'uint8'\n",
        "                             )"
      ],
      "execution_count": 0,
      "outputs": []
    },
    {
      "cell_type": "code",
      "metadata": {
        "id": "5gOXopeZ0l6V",
        "colab_type": "code",
        "colab": {}
      },
      "source": [
        "mult_diseases = []\n",
        "mult_diseases_label = []\n",
        "\n",
        "for n in mult_diseases_index:\n",
        "    mult_diseases.append(train_images[n])\n",
        "    mult_diseases_label.append(labels[n])\n",
        "\n",
        "\n",
        "mult_diseases = np.array(mult_diseases)\n",
        "mult_diseases_label = np.array(mult_diseases_label)"
      ],
      "execution_count": 0,
      "outputs": []
    },
    {
      "cell_type": "code",
      "metadata": {
        "id": "x9NUC2V3rgBt",
        "colab_type": "code",
        "colab": {}
      },
      "source": [
        "x_new_3 = next(new_idg.flow(mult_diseases, mult_diseases_label, batch_size= 450))"
      ],
      "execution_count": 0,
      "outputs": []
    },
    {
      "cell_type": "code",
      "metadata": {
        "id": "5fx9xAlDty6Z",
        "colab_type": "code",
        "colab": {}
      },
      "source": [
        "x_concat = np.concatenate((train_images, x_new[0], x_new_1[0], x_new_2[0], x_new_3[0]), axis = 0)"
      ],
      "execution_count": 0,
      "outputs": []
    },
    {
      "cell_type": "code",
      "metadata": {
        "id": "mfSV2egH7ejv",
        "colab_type": "code",
        "colab": {}
      },
      "source": [
        "y_concat = np.concatenate((labels, x_new[1], x_new_1[1], x_new_2[1], x_new_3[1]), axis = 0)"
      ],
      "execution_count": 0,
      "outputs": []
    },
    {
      "cell_type": "markdown",
      "metadata": {
        "id": "_q5a6cewvR_e",
        "colab_type": "text"
      },
      "source": [
        "## Splitting Training and Dev data"
      ]
    },
    {
      "cell_type": "code",
      "metadata": {
        "id": "5C-Y1bGj8pu_",
        "colab_type": "code",
        "colab": {}
      },
      "source": [
        "x_train, x_dev, y_train, y_dev = train_test_split(x[0], x[1], test_size = 0.2, random_state = 101)"
      ],
      "execution_count": 0,
      "outputs": []
    },
    {
      "cell_type": "markdown",
      "metadata": {
        "id": "YRpiGX8ilWiH",
        "colab_type": "text"
      },
      "source": [
        "## Model"
      ]
    },
    {
      "cell_type": "code",
      "metadata": {
        "id": "MjaYgXgWca3R",
        "colab_type": "code",
        "colab": {}
      },
      "source": [
        "efficientnet = EfficientNetB4()"
      ],
      "execution_count": 0,
      "outputs": []
    },
    {
      "cell_type": "code",
      "metadata": {
        "id": "GvVaHQWWlWiK",
        "colab_type": "code",
        "colab": {}
      },
      "source": [
        "nasnet = load_model('/content/drive/My Drive/Plant/nasnet.h5')"
      ],
      "execution_count": 0,
      "outputs": []
    },
    {
      "cell_type": "code",
      "metadata": {
        "id": "7SJFK3VIIJx9",
        "colab_type": "code",
        "colab": {}
      },
      "source": [
        "xception = load_model('/content/drive/My Drive/Plant/xception.h5')"
      ],
      "execution_count": 0,
      "outputs": []
    },
    {
      "cell_type": "code",
      "metadata": {
        "id": "H14vsHn5lWiS",
        "colab_type": "code",
        "colab": {}
      },
      "source": [
        "def get_layers_pretrain(pretrained_model, trainable = True):\n",
        "    input_layer = pretrained_model.input\n",
        "    output_layer = pretrained_model.get_layer('top_dropout').output\n",
        "\n",
        "    model = Model(inputs = input_layer, outputs = output_layer)\n",
        "\n",
        "    if trainable == False:\n",
        "        for layer in model.layers:\n",
        "            layer.trainable = False\n",
        "\n",
        "    return model"
      ],
      "execution_count": 0,
      "outputs": []
    },
    {
      "cell_type": "code",
      "metadata": {
        "id": "YB2EULbSlWiU",
        "colab_type": "code",
        "colab": {}
      },
      "source": [
        "pretrained_model = get_layers_pretrain(efficientnet, False)"
      ],
      "execution_count": 0,
      "outputs": []
    },
    {
      "cell_type": "code",
      "metadata": {
        "id": "0cDIxQKXqUZc",
        "colab_type": "code",
        "colab": {}
      },
      "source": [
        "pretrained_model.summary()"
      ],
      "execution_count": 0,
      "outputs": []
    },
    {
      "cell_type": "code",
      "metadata": {
        "id": "bb1i0Bj7ooH2",
        "colab_type": "code",
        "colab": {}
      },
      "source": [
        "def ensemble_model(model_1, model_2, trainable = True):\n",
        "    input_1 = model_1.input\n",
        "    input_2 = model_2.input\n",
        "    output_1 = model_1.get_layer('global_average_pooling2d').output\n",
        "    output_2 = model_2.get_layer('avg_pool').output\n",
        "\n",
        "    model = Model(inputs = [input_1, input_2], outputs = [output_1, output_2])\n",
        "\n",
        "    if trainable == False:\n",
        "        for layer in model.layers:\n",
        "            layer.trainable = False\n",
        "\n",
        "    return model"
      ],
      "execution_count": 0,
      "outputs": []
    },
    {
      "cell_type": "code",
      "metadata": {
        "id": "c-9V0L8gpi77",
        "colab_type": "code",
        "colab": {}
      },
      "source": [
        "ensemble_model = ensemble_model(nasnet, xception, False)"
      ],
      "execution_count": 0,
      "outputs": []
    },
    {
      "cell_type": "code",
      "metadata": {
        "id": "4Hz8mNlCSBRC",
        "colab_type": "code",
        "colab": {}
      },
      "source": [
        "del pretrained_model"
      ],
      "execution_count": 0,
      "outputs": []
    },
    {
      "cell_type": "code",
      "metadata": {
        "id": "a1iMgx4plWia",
        "colab_type": "code",
        "colab": {}
      },
      "source": [
        "def get_final_model(model):\n",
        "\n",
        "    input_l = model.input\n",
        "\n",
        "    h = Dense(1024, activation='relu', kernel_initializer = 'glorot_normal')(model.output)\n",
        "    h = Dropout(0.2)(h)\n",
        "    h = BatchNormalization()(h)\n",
        "    h = Dense(512, activation='relu', kernel_initializer = 'glorot_normal')(h)\n",
        "    h = Dropout(0.2)(h)\n",
        "    h = BatchNormalization()(h)\n",
        "    h = Dense(256, activation='relu', kernel_initializer = 'glorot_normal')(h)\n",
        "    h = BatchNormalization()(h)   \n",
        "    h = Dense(128, activation='relu', kernel_initializer = 'glorot_normal')(h)\n",
        "    h = BatchNormalization()(h)\n",
        "    h = Dense(64, activation='relu', kernel_initializer = 'glorot_normal')(h)\n",
        "    h = BatchNormalization()(h)\n",
        "    h = Dense(32, activation='relu', kernel_initializer = 'glorot_normal')(h)\n",
        "    h = Dropout(0.2)(h)\n",
        "    h = BatchNormalization()(h)\n",
        "    h = Dense(16, activation='relu', kernel_initializer = 'glorot_normal')(h)\n",
        "    h = Dropout(0.2)(h)\n",
        "    h = BatchNormalization()(h)\n",
        "    output_l = Dense(4, activation = 'softmax')(h)\n",
        "\n",
        "\n",
        "    final_model = Model(inputs = model.input, outputs = output_l)\n",
        "\n",
        "    return final_model"
      ],
      "execution_count": 0,
      "outputs": []
    },
    {
      "cell_type": "code",
      "metadata": {
        "id": "LQXmXPcxlWic",
        "colab_type": "code",
        "colab": {}
      },
      "source": [
        "model = get_final_model(pretrained_model)"
      ],
      "execution_count": 0,
      "outputs": []
    },
    {
      "cell_type": "code",
      "metadata": {
        "id": "3hdDGYLB3Dct",
        "colab_type": "code",
        "colab": {}
      },
      "source": [
        "model.summary()"
      ],
      "execution_count": 0,
      "outputs": []
    },
    {
      "cell_type": "code",
      "metadata": {
        "id": "vJge4STXlWil",
        "colab_type": "code",
        "colab": {}
      },
      "source": [
        "model.compile(optimizer = Adam(lr = 0.001),\n",
        "              loss = 'categorical_crossentropy',\n",
        "              metrics = ['acc'])"
      ],
      "execution_count": 0,
      "outputs": []
    },
    {
      "cell_type": "code",
      "metadata": {
        "id": "xRx6YBoN2RVl",
        "colab_type": "code",
        "colab": {}
      },
      "source": [
        "early_stopping = EarlyStopping(monitor = 'val_loss', patience = 5, mode = 'min')\n",
        "reduce_lr = ReduceLROnPlateau(monitor = 'val_loss', factor = 0.6, patience = 2, mode = 'min', min_lr= 0.00001)\n",
        "checkpoint = ModelCheckpoint('checkpoint', save_best_only= True, mode = 'min', monitor= 'val_loss', verbose = 0)"
      ],
      "execution_count": 0,
      "outputs": []
    },
    {
      "cell_type": "code",
      "metadata": {
        "id": "y0S2uGRclWiq",
        "colab_type": "code",
        "colab": {}
      },
      "source": [
        "history = model.fit(x_train, y_train, epochs= 50, validation_data = (x_dev, y_dev),\n",
        "                    verbose=1, callbacks=[early_stopping, reduce_lr, checkpoint])"
      ],
      "execution_count": 0,
      "outputs": []
    },
    {
      "cell_type": "markdown",
      "metadata": {
        "id": "O3DU21jwnIe9",
        "colab_type": "text"
      },
      "source": [
        "### Loss and Accuracy Plot"
      ]
    },
    {
      "cell_type": "code",
      "metadata": {
        "id": "6pzBUKr84bt_",
        "colab_type": "code",
        "colab": {}
      },
      "source": [
        "def loss_acc_plot(history, accuracy = False):\n",
        "    \n",
        "    data = pd.DataFrame(history.history)\n",
        "\n",
        "    plt.title('Training Loss vs Validation Loss')\n",
        "    plt.plot(data['loss'], c = 'b', label = 'loss', )\n",
        "    plt.plot(data['val_loss'], c = 'orange', label = 'val_loss')\n",
        "    plt.legend()\n",
        "    plt.show()\n",
        "\n",
        "    if accuracy == True:\n",
        "        plt.title('Training Accuracy vs Validation Accuracy')\n",
        "        plt.plot(data['acc'], c = 'b', label = 'accuracy')\n",
        "        plt.plot(data['val_acc'], c = 'orange', label = 'val_accuracy')\n",
        "        plt.legend()\n",
        "        plt.show()\n"
      ],
      "execution_count": 0,
      "outputs": []
    },
    {
      "cell_type": "code",
      "metadata": {
        "id": "JjMikDNw7Pm7",
        "colab_type": "code",
        "colab": {}
      },
      "source": [
        "loss_acc_plot(history, accuracy= True)"
      ],
      "execution_count": 0,
      "outputs": []
    },
    {
      "cell_type": "markdown",
      "metadata": {
        "id": "pRS1uJVZWdG8",
        "colab_type": "text"
      },
      "source": [
        "### Prediction"
      ]
    },
    {
      "cell_type": "code",
      "metadata": {
        "id": "JCSvQP4l_mYW",
        "colab_type": "code",
        "colab": {}
      },
      "source": [
        "test_images = np.load('test_images_380.npy')"
      ],
      "execution_count": 0,
      "outputs": []
    },
    {
      "cell_type": "code",
      "metadata": {
        "id": "Me0kN_NGYYKB",
        "colab_type": "code",
        "colab": {}
      },
      "source": [
        "x_test = next(idg.flow(test_images, shuffle = False, batch_size=test_images.shape[0]))"
      ],
      "execution_count": 0,
      "outputs": []
    },
    {
      "cell_type": "code",
      "metadata": {
        "id": "t3kypKKS68Qy",
        "colab_type": "code",
        "colab": {}
      },
      "source": [
        "model_best = load_model('checkpoint')"
      ],
      "execution_count": 0,
      "outputs": []
    },
    {
      "cell_type": "code",
      "metadata": {
        "id": "bzNnsPnS7TKZ",
        "colab_type": "code",
        "colab": {}
      },
      "source": [
        "prediction = model_best.predict(x_test)"
      ],
      "execution_count": 0,
      "outputs": []
    },
    {
      "cell_type": "code",
      "metadata": {
        "id": "vkQ0bcFvY_fg",
        "colab_type": "code",
        "colab": {}
      },
      "source": [
        "final = pd.DataFrame(prediction)"
      ],
      "execution_count": 0,
      "outputs": []
    },
    {
      "cell_type": "code",
      "metadata": {
        "id": "yZYygA7sZk7p",
        "colab_type": "code",
        "colab": {}
      },
      "source": [
        "final = round(final,2)"
      ],
      "execution_count": 0,
      "outputs": []
    },
    {
      "cell_type": "code",
      "metadata": {
        "id": "wYL1jhv4Zndy",
        "colab_type": "code",
        "colab": {}
      },
      "source": [
        "final.to_csv('prediction.csv')"
      ],
      "execution_count": 0,
      "outputs": []
    }
  ]
}